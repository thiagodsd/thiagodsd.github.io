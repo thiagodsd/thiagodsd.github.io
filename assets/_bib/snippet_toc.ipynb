{
 "cells": [
  {
   "cell_type": "code",
   "execution_count": 3,
   "metadata": {},
   "outputs": [
    {
     "name": "stdout",
     "output_type": "stream",
     "text": [
      "\t- [bash](#bash)\n",
      "\t- [python](#python)\n",
      "\t\t- [ridge regression](#ridge-regression)\n",
      "\t\t- [logistic regression](#logistic-regression)\n",
      "\t\t- [decision trees](#decision-trees)\n",
      "\t\t- [svm](#svm)\n",
      "\t\t- [knn](#knn)\n",
      "\t\t- [naive bayes](#naive-bayes)\n"
     ]
    }
   ],
   "source": [
    "import unidecode\n",
    "\n",
    "with open(r'''_posts/2020-01-04-anotacoes-3.md''', mode='r') as f:\n",
    "    s = f.readlines() \n",
    "\n",
    "STATUS = True\n",
    "for l in s:\n",
    "    if len(l.rstrip()) > 0:\n",
    "        if l[:3] == '```':\n",
    "            if STATUS == True:\n",
    "                STATUS = False\n",
    "            else:\n",
    "                STATUS = True\n",
    "        if STATUS == True:\n",
    "            if l.rstrip()[0] == \"#\":\n",
    "                hashtag = l.split()[0]\n",
    "                chapter = ' '.join(l.split()[1:])\n",
    "                link = unidecode.unidecode('-'.join(l.split()[1:]).lower())\n",
    "                ITEM = '{}{}{}'.format((len(hashtag)-1)*'\\t', '- ', '[{}](#{})'.format(chapter, link))\n",
    "                print(ITEM)"
   ]
  },
  {
   "cell_type": "markdown",
   "metadata": {},
   "source": [
    "- - -"
   ]
  }
 ],
 "metadata": {
  "kernelspec": {
   "display_name": "Python 3",
   "language": "python",
   "name": "python3"
  },
  "language_info": {
   "codemirror_mode": {
    "name": "ipython",
    "version": 3
   },
   "file_extension": ".py",
   "mimetype": "text/x-python",
   "name": "python",
   "nbconvert_exporter": "python",
   "pygments_lexer": "ipython3",
   "version": "3.7.6"
  }
 },
 "nbformat": 4,
 "nbformat_minor": 4
}
